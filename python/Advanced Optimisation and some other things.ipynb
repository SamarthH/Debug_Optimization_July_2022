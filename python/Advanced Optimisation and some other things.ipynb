{
 "cells": [
  {
   "cell_type": "markdown",
   "id": "b5a8ce0c",
   "metadata": {},
   "source": [
    "# Enter Numba"
   ]
  },
  {
   "cell_type": "markdown",
   "id": "ca2c3cd2",
   "metadata": {},
   "source": [
    "In order to see how Numba is used, and what advantages it provides, let us take a look at an example problem."
   ]
  },
  {
   "cell_type": "markdown",
   "id": "e2de4cf7",
   "metadata": {},
   "source": [
    "What we would be doing is naively simulating diffusion. In order to do that, we will apply an iterative process over a lattice.\n",
    "\n",
    "We will assume that we have some initial concentration $C_{i,j}$ at each point, and a diffusion coefficient $d_{i,j} = e^{-1/T_{i,j}}$ corresponding to each point in the 2D lattice, where $T_{i,j}$ is the temperature at that point. The concentrations would evolve as,\n",
    "$$\n",
    "C_{i,j} = (1 - d_{i,j})C_{i,j} + \\sum_{(i',j') \\in \\text{neighbours}} 0.25*d_{i',j'} C_{i',j'}\n",
    "$$\n",
    "\n",
    "Also, for the sake of ease, we shall consider periodic boundaries"
   ]
  },
  {
   "cell_type": "code",
   "execution_count": 1,
   "id": "74291671",
   "metadata": {},
   "outputs": [],
   "source": [
    "import numpy as np\n",
    "import matplotlib.pyplot as plt"
   ]
  },
  {
   "cell_type": "code",
   "execution_count": 2,
   "id": "c1ea3457",
   "metadata": {},
   "outputs": [],
   "source": [
    "def update_lattice(C, d):\n",
    "    assert C.shape == d.shape\n",
    "    \n",
    "    I, J = C.shape\n",
    "    \n",
    "    C_temp = C.copy()\n",
    "    \n",
    "    for i in range(I):\n",
    "        for j in range(J):\n",
    "            C[i,j] = (1 - d[i,j])*C_temp[i,j] +\\\n",
    "                    0.25*d[(i+1)%I,j]*C_temp[(i+1)%I,j] +\\\n",
    "                    0.25*d[(i-1)%I,j]*C_temp[(i-1)%I,j] +\\\n",
    "                    0.25*d[i,(j+1)%J]*C_temp[i,(j+1)%J] +\\\n",
    "                    0.25*d[i,(j-1)%J]*C_temp[i,(j-1)%J]                 "
   ]
  },
  {
   "cell_type": "markdown",
   "id": "e4d9c1c2",
   "metadata": {},
   "source": [
    "Next, let us also define the \"Energy\" associated with a configuration as a simple scaling of temperature and concentration at each point. Say,\n",
    "$$\n",
    "E = \\sum_{i,j} T_{i,j} C_{i,j}^2\n",
    "$$"
   ]
  },
  {
   "cell_type": "code",
   "execution_count": 3,
   "id": "7d99a19f",
   "metadata": {},
   "outputs": [],
   "source": [
    "def get_total_energy(C, T):    \n",
    "    return np.sum(C*C*T) # This is an elementwise multiplication followed by sum over all components"
   ]
  },
  {
   "cell_type": "markdown",
   "id": "c925d01f",
   "metadata": {},
   "source": [
    "Now, let's initialize a point source at origin, and check how the system evolves for a constant temperature"
   ]
  },
  {
   "cell_type": "code",
   "execution_count": 11,
   "id": "49cc1220",
   "metadata": {},
   "outputs": [],
   "source": [
    "def evolve_lattice(C,d,T, steps, energies):\n",
    "    for i in range(steps):\n",
    "        update_lattice(C,d)\n",
    "        energies.append(get_total_energy(C,T))"
   ]
  },
  {
   "cell_type": "code",
   "execution_count": 5,
   "id": "f8fc8610",
   "metadata": {},
   "outputs": [],
   "source": [
    "N = 101\n",
    "\n",
    "C = np.zeros((N,N))\n",
    "T = np.ones((N,N))\n",
    "d = np.exp(-1./T)\n",
    "\n",
    "C[N//2, N//2] = 100.\n",
    "\n",
    "energies = []\n",
    "\n",
    "steps = 201\n",
    "C_init = C.copy()"
   ]
  },
  {
   "cell_type": "code",
   "execution_count": 14,
   "id": "8d954941",
   "metadata": {},
   "outputs": [
    {
     "name": "stdout",
     "output_type": "stream",
     "text": [
      "CPU times: user 634 ms, sys: 24.8 ms, total: 659 ms\n",
      "Wall time: 816 ms\n"
     ]
    }
   ],
   "source": [
    "%time evolve_lattice(C,d,T,steps, energies)"
   ]
  },
  {
   "cell_type": "code",
   "execution_count": 7,
   "id": "3e6017c9",
   "metadata": {},
   "outputs": [],
   "source": [
    "C_final = C.copy()"
   ]
  },
  {
   "cell_type": "code",
   "execution_count": 8,
   "id": "e265c202",
   "metadata": {
    "scrolled": true
   },
   "outputs": [
    {
     "data": {
      "text/plain": [
       "<matplotlib.image.AxesImage at 0x7fe1af828d00>"
      ]
     },
     "execution_count": 8,
     "metadata": {},
     "output_type": "execute_result"
    },
    {
     "data": {
      "image/png": "[encoded data removed]",
      "text/plain": [
       "<Figure size 432x288 with 1 Axes>"
      ]
     },
     "metadata": {
      "needs_background": "light"
     },
     "output_type": "display_data"
    }
   ],
   "source": [
    "plt.imshow(C_init)"
   ]
  },
  {
   "cell_type": "code",
   "execution_count": 9,
   "id": "b9e603b6",
   "metadata": {},
   "outputs": [
    {
     "data": {
      "text/plain": [
       "<matplotlib.image.AxesImage at 0x7fe1aef86c40>"
      ]
     },
     "execution_count": 9,
     "metadata": {},
     "output_type": "execute_result"
    },
    {
     "data": {
      "image/png": "[encoded data removed]",
      "text/plain": [
       "<Figure size 432x288 with 1 Axes>"
      ]
     },
     "metadata": {
      "needs_background": "light"
     },
     "output_type": "display_data"
    }
   ],
   "source": [
    "plt.imshow(C_final)"
   ]
  },
  {
   "cell_type": "markdown",
   "id": "134d4be3",
   "metadata": {},
   "source": [
    "Let us plot the energies"
   ]
  },
  {
   "cell_type": "code",
   "execution_count": 10,
   "id": "60a538ab",
   "metadata": {},
   "outputs": [
    {
     "data": {
      "image/png": "[encoded data removed]",
      "text/plain": [
       "<Figure size 432x288 with 1 Axes>"
      ]
     },
     "metadata": {
      "needs_background": "light"
     },
     "output_type": "display_data"
    }
   ],
   "source": [
    "plt.plot(energies)\n",
    "plt.show()"
   ]
  },
  {
   "cell_type": "code",
   "execution_count": 12,
   "id": "93b77e38",
   "metadata": {},
   "outputs": [],
   "source": [
    "from numba import njit"
   ]
  },
  {
   "cell_type": "code",
   "execution_count": 13,
   "id": "318f54b6",
   "metadata": {},
   "outputs": [],
   "source": [
    "@njit\n",
    "def update_lattice(C, d):\n",
    "    assert C.shape == d.shape\n",
    "    \n",
    "    I, J = C.shape\n",
    "    \n",
    "    C_temp = C.copy()\n",
    "    \n",
    "    for i in range(I):\n",
    "        for j in range(J):\n",
    "            C[i,j] = (1 - d[i,j])*C_temp[i,j] +\\\n",
    "                    0.25*d[(i+1)%I,j]*C_temp[(i+1)%I,j] +\\\n",
    "                    0.25*d[(i-1)%I,j]*C_temp[(i-1)%I,j] +\\\n",
    "                    0.25*d[i,(j+1)%J]*C_temp[i,(j+1)%J] +\\\n",
    "                    0.25*d[i,(j-1)%J]*C_temp[i,(j-1)%J]       "
   ]
  },
  {
   "cell_type": "code",
   "execution_count": 18,
   "id": "f4afba91",
   "metadata": {},
   "outputs": [],
   "source": [
    "N = 101\n",
    "\n",
    "C = np.zeros((N,N))\n",
    "T = np.ones((N,N))\n",
    "d = np.exp(-1./T)\n",
    "\n",
    "C[N//2, N//2] = 100.\n",
    "\n",
    "energies = []\n",
    "\n",
    "steps = 201\n",
    "C_init = C.copy()"
   ]
  },
  {
   "cell_type": "code",
   "execution_count": 19,
   "id": "8d783eab",
   "metadata": {},
   "outputs": [
    {
     "name": "stdout",
     "output_type": "stream",
     "text": [
      "CPU times: user 412 ms, sys: 3.95 ms, total: 416 ms\n",
      "Wall time: 413 ms\n"
     ]
    }
   ],
   "source": [
    "%time evolve_lattice(C,d,T,steps, energies)"
   ]
  },
  {
   "cell_type": "code",
   "execution_count": 20,
   "id": "cbd5f3e9",
   "metadata": {},
   "outputs": [],
   "source": [
    "C_final = C.copy()"
   ]
  },
  {
   "cell_type": "code",
   "execution_count": null,
   "id": "0d92e6f9",
   "metadata": {},
   "outputs": [],
   "source": []
  }
 ],
 "metadata": {
  "kernelspec": {
   "display_name": "Python 3 (ipykernel)",
   "language": "python",
   "name": "python3"
  },
  "language_info": {
   "codemirror_mode": {
    "name": "ipython",
    "version": 3
   },
   "file_extension": ".py",
   "mimetype": "text/x-python",
   "name": "python",
   "nbconvert_exporter": "python",
   "pygments_lexer": "ipython3",
   "version": "3.9.12"
  }
 },
 "nbformat": 4,
 "nbformat_minor": 5
}
