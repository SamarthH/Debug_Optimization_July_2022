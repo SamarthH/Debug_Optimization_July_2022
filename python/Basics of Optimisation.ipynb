{
 "cells": [
  {
   "cell_type": "markdown",
   "id": "3b912a64",
   "metadata": {},
   "source": [
    "# Profiling and Optimisations"
   ]
  },
  {
   "cell_type": "markdown",
   "id": "71626dfe",
   "metadata": {},
   "source": [
    "- Programmer time is mostly more valuable than computer time\n",
    "- So, want to optimise until the runtime is not the limiting factor in your research"
   ]
  },
  {
   "cell_type": "markdown",
   "id": "37ce911e",
   "metadata": {},
   "source": [
    "\"To optimise, or not to optimise. That is the question.\"\n",
    "Profiling answers that question"
   ]
  },
  {
   "cell_type": "markdown",
   "id": "48b8c897",
   "metadata": {},
   "source": [
    "We want to optimise the most expensive parts first."
   ]
  },
  {
   "cell_type": "markdown",
   "id": "d6039438",
   "metadata": {},
   "source": [
    "Things to keep in mind:\n",
    "1. DO NOT ASSUME\n",
    "2. DO NOT ASSUME\n",
    "3. DO NOT ASSUME\n",
    "\n",
    "Computers are good. And the library writers are better. What you thought is the slowest step is under most cases not the slowest step."
   ]
  },
  {
   "cell_type": "markdown",
   "id": "5bdee5bf",
   "metadata": {},
   "source": [
    "## Tools for profiling"
   ]
  },
  {
   "cell_type": "markdown",
   "id": "e6f524c8",
   "metadata": {},
   "source": [
    "In this talk, we will majorly discuss the use of line_profiler using a Jupyter notebook.\n",
    "\n",
    "This can be done in a standard python script, but Jupyter is usually easier to work with for this."
   ]
  },
  {
   "cell_type": "code",
   "execution_count": 1,
   "id": "0370089f",
   "metadata": {},
   "outputs": [],
   "source": [
    "%load_ext line_profiler"
   ]
  },
  {
   "cell_type": "markdown",
   "id": "39749c92",
   "metadata": {},
   "source": [
    "Now, one can profile functions line-by-line"
   ]
  },
  {
   "cell_type": "markdown",
   "id": "60b9140e",
   "metadata": {},
   "source": [
    "### Example"
   ]
  },
  {
   "cell_type": "code",
   "execution_count": 2,
   "id": "2bc781d5",
   "metadata": {},
   "outputs": [],
   "source": [
    "def read_files(filename1, filename2):\n",
    "    # Reading from the files, assuming newline separated floats\n",
    "    arr1 = []\n",
    "    arr2 = []\n",
    "    with open(filename1, 'r') as file1:\n",
    "        for x in file1:\n",
    "            arr1.append(float(x))\n",
    "    with open(filename2, 'r') as file2:\n",
    "        for x in file2:\n",
    "            arr2.append(float(x))\n",
    "    \n",
    "    assert len(arr1) == len(arr2) # Just to guarantee that the sizes are the same\n",
    "    \n",
    "    return arr1, arr2\n",
    "\n",
    "def multiply_arrs(arr1, arr2):\n",
    "    out = []\n",
    "    for i in range(len(arr1)):\n",
    "        out.append(arr1[i]*arr2[i])\n",
    "    return out\n",
    "\n",
    "def add_arr(out):\n",
    "    ret = 0\n",
    "    for x in out:\n",
    "        ret += x\n",
    "    return ret"
   ]
  },
  {
   "cell_type": "code",
   "execution_count": 3,
   "id": "8c1c537c",
   "metadata": {},
   "outputs": [],
   "source": [
    "def read_from_two_files_then_multiply_and_sum(filename1, filename2):\n",
    "    arr1, arr2 = read_files(filename1, filename2)\n",
    "    multiplied_arr = multiply_arrs(arr1, arr2)\n",
    "    output = add_arr(multiplied_arr)\n",
    "    return output"
   ]
  },
  {
   "cell_type": "code",
   "execution_count": 4,
   "id": "5ae8dd12",
   "metadata": {},
   "outputs": [
    {
     "name": "stdout",
     "output_type": "stream",
     "text": [
      "989 ms ± 39.8 ms per loop (mean ± std. dev. of 7 runs, 1 loop each)\n"
     ]
    }
   ],
   "source": [
    "%timeit read_from_two_files_then_multiply_and_sum('file1.txt', 'file2.txt')"
   ]
  },
  {
   "cell_type": "code",
   "execution_count": 5,
   "id": "0e8b315a",
   "metadata": {},
   "outputs": [
    {
     "name": "stdout",
     "output_type": "stream",
     "text": [
      "249916.7908467609\n"
     ]
    }
   ],
   "source": [
    "%lprun -f read_from_two_files_then_multiply_and_sum print(read_from_two_files_then_multiply_and_sum('file1.txt', 'file2.txt'))"
   ]
  },
  {
   "cell_type": "markdown",
   "id": "7a2ef225",
   "metadata": {},
   "source": [
    "So, we see that we should rewrite read_files to make it faster as it takes the majority of the time"
   ]
  },
  {
   "cell_type": "markdown",
   "id": "7c4e4b7c",
   "metadata": {},
   "source": [
    "#### Introducing numpy"
   ]
  },
  {
   "cell_type": "code",
   "execution_count": 6,
   "id": "48161077",
   "metadata": {},
   "outputs": [],
   "source": [
    "import numpy as np"
   ]
  },
  {
   "cell_type": "code",
   "execution_count": 7,
   "id": "b1ee2230",
   "metadata": {},
   "outputs": [],
   "source": [
    "# Rewriting to make this faster\n",
    "def read_files(filename1, filename2):\n",
    "    # Reading from the files, assuming space separated floats\n",
    "    arr1 = np.loadtxt(filename1, unpack=True)\n",
    "    arr2 = np.loadtxt(filename2, unpack=True)\n",
    "    assert len(arr1) == len(arr2) # Just to guarantee that the sizes are the same\n",
    "    \n",
    "    return arr1, arr2"
   ]
  },
  {
   "cell_type": "code",
   "execution_count": 8,
   "id": "eb3737c1",
   "metadata": {},
   "outputs": [
    {
     "name": "stdout",
     "output_type": "stream",
     "text": [
      "249916.7908467609\n"
     ]
    }
   ],
   "source": [
    "%lprun -f read_from_two_files_then_multiply_and_sum print(read_from_two_files_then_multiply_and_sum('file1.txt', 'file2.txt'))"
   ]
  },
  {
   "cell_type": "code",
   "execution_count": 9,
   "id": "de27c405",
   "metadata": {},
   "outputs": [
    {
     "name": "stdout",
     "output_type": "stream",
     "text": [
      "4.54 s ± 179 ms per loop (mean ± std. dev. of 7 runs, 1 loop each)\n"
     ]
    }
   ],
   "source": [
    "%timeit read_from_two_files_then_multiply_and_sum('file1.txt', 'file2.txt')"
   ]
  },
  {
   "cell_type": "markdown",
   "id": "dfa0c65a",
   "metadata": {},
   "source": [
    "So, for the numpy enthusiants: Numpy can be slower than pure python!"
   ]
  },
  {
   "cell_type": "markdown",
   "id": "0985babd",
   "metadata": {},
   "source": [
    "#### Introducing Pandas"
   ]
  },
  {
   "cell_type": "code",
   "execution_count": 10,
   "id": "dfdaa430",
   "metadata": {},
   "outputs": [],
   "source": [
    "import pandas as pd"
   ]
  },
  {
   "cell_type": "code",
   "execution_count": 11,
   "id": "905a1646",
   "metadata": {},
   "outputs": [],
   "source": [
    "# Rewriting to make this faster\n",
    "def read_files(filename1, filename2):\n",
    "    # Reading from the files, assuming space separated floats\n",
    "    arr1 = np.array(pd.read_csv(filename1))\n",
    "    arr2 = np.array(pd.read_csv(filename2))\n",
    "    arr1 = arr1.T[0]\n",
    "    arr2 = arr2.T[0]\n",
    "    assert len(arr1) == len(arr2) # Just to guarantee that the sizes are the same\n",
    "    \n",
    "    return arr1, arr2"
   ]
  },
  {
   "cell_type": "code",
   "execution_count": 12,
   "id": "2b79dfaa",
   "metadata": {},
   "outputs": [
    {
     "name": "stdout",
     "output_type": "stream",
     "text": [
      "249916.4665736269\n"
     ]
    }
   ],
   "source": [
    "%lprun -f read_from_two_files_then_multiply_and_sum print(read_from_two_files_then_multiply_and_sum('file1.txt', 'file2.txt'))"
   ]
  },
  {
   "cell_type": "code",
   "execution_count": 13,
   "id": "cb6c3eaf",
   "metadata": {},
   "outputs": [
    {
     "name": "stdout",
     "output_type": "stream",
     "text": [
      "668 ms ± 34.9 ms per loop (mean ± std. dev. of 7 runs, 1 loop each)\n"
     ]
    }
   ],
   "source": [
    "%timeit read_from_two_files_then_multiply_and_sum('file1.txt', 'file2.txt')"
   ]
  },
  {
   "cell_type": "markdown",
   "id": "cfa67fca",
   "metadata": {},
   "source": [
    "Next, optimising multiplication"
   ]
  },
  {
   "cell_type": "code",
   "execution_count": 14,
   "id": "74dc64a2",
   "metadata": {},
   "outputs": [],
   "source": [
    "def multiply_arrs(arr1, arr2):\n",
    "    return arr1*arr2"
   ]
  },
  {
   "cell_type": "code",
   "execution_count": 15,
   "id": "460f0e50",
   "metadata": {},
   "outputs": [
    {
     "name": "stdout",
     "output_type": "stream",
     "text": [
      "249916.4665736269\n"
     ]
    }
   ],
   "source": [
    "%lprun -f read_from_two_files_then_multiply_and_sum print(read_from_two_files_then_multiply_and_sum('file1.txt', 'file2.txt'))"
   ]
  },
  {
   "cell_type": "code",
   "execution_count": 16,
   "id": "7608914c",
   "metadata": {},
   "outputs": [
    {
     "name": "stdout",
     "output_type": "stream",
     "text": [
      "464 ms ± 47.5 ms per loop (mean ± std. dev. of 7 runs, 1 loop each)\n"
     ]
    }
   ],
   "source": [
    "%timeit read_from_two_files_then_multiply_and_sum('file1.txt', 'file2.txt')"
   ]
  },
  {
   "cell_type": "markdown",
   "id": "199ff52e",
   "metadata": {},
   "source": [
    "Optimising the addition"
   ]
  },
  {
   "cell_type": "code",
   "execution_count": 17,
   "id": "20944770",
   "metadata": {},
   "outputs": [],
   "source": [
    "def add_arr(out):\n",
    "    return out.sum()"
   ]
  },
  {
   "cell_type": "code",
   "execution_count": 18,
   "id": "a3e7c05e",
   "metadata": {},
   "outputs": [
    {
     "name": "stdout",
     "output_type": "stream",
     "text": [
      "249916.46657362505\n"
     ]
    }
   ],
   "source": [
    "%lprun -f read_from_two_files_then_multiply_and_sum print(read_from_two_files_then_multiply_and_sum('file1.txt', 'file2.txt'))"
   ]
  },
  {
   "cell_type": "code",
   "execution_count": 19,
   "id": "4c825c0d",
   "metadata": {},
   "outputs": [
    {
     "name": "stdout",
     "output_type": "stream",
     "text": [
      "380 ms ± 27.6 ms per loop (mean ± std. dev. of 7 runs, 1 loop each)\n"
     ]
    }
   ],
   "source": [
    "%timeit read_from_two_files_then_multiply_and_sum('file1.txt', 'file2.txt')"
   ]
  },
  {
   "cell_type": "markdown",
   "id": "668a38fb",
   "metadata": {},
   "source": [
    "Calling upon your unused CPU"
   ]
  },
  {
   "cell_type": "code",
   "execution_count": 20,
   "id": "55df7ab0",
   "metadata": {},
   "outputs": [],
   "source": [
    "import threading"
   ]
  },
  {
   "cell_type": "code",
   "execution_count": 23,
   "id": "76954c5c",
   "metadata": {},
   "outputs": [],
   "source": [
    "def read_file_in_arr(arr, index, filename):\n",
    "    arr[index] = np.array(pd.read_csv(filename)).T[0]\n",
    "def read_files(filename1, filename2):\n",
    "    # Reading from the files, assuming space separated floats\n",
    "    arr = [0,0]\n",
    "    \n",
    "    thread_read = threading.Thread(target = read_file_in_arr, args=(arr,0,filename1))\n",
    "    thread_read.start()\n",
    "    \n",
    "    read_file_in_arr(arr,1,filename2)\n",
    "    thread_read.join()\n",
    "    \n",
    "    assert len(arr[0]) == len(arr[1]) # Just to guarantee that the sizes are the same\n",
    "    \n",
    "    return arr[0], arr[1]"
   ]
  },
  {
   "cell_type": "code",
   "execution_count": 24,
   "id": "622b7a15",
   "metadata": {},
   "outputs": [
    {
     "name": "stdout",
     "output_type": "stream",
     "text": [
      "249916.46657362505\n"
     ]
    }
   ],
   "source": [
    "%lprun -f read_from_two_files_then_multiply_and_sum print(read_from_two_files_then_multiply_and_sum('file1.txt', 'file2.txt'))"
   ]
  },
  {
   "cell_type": "code",
   "execution_count": 25,
   "id": "bf87f9c1",
   "metadata": {},
   "outputs": [
    {
     "name": "stdout",
     "output_type": "stream",
     "text": [
      "212 ms ± 30.4 ms per loop (mean ± std. dev. of 7 runs, 1 loop each)\n"
     ]
    }
   ],
   "source": [
    "%timeit read_from_two_files_then_multiply_and_sum('file1.txt', 'file2.txt')"
   ]
  }
 ],
 "metadata": {
  "kernelspec": {
   "display_name": "Python 3 (ipykernel)",
   "language": "python",
   "name": "python3"
  },
  "language_info": {
   "codemirror_mode": {
    "name": "ipython",
    "version": 3
   },
   "file_extension": ".py",
   "mimetype": "text/x-python",
   "name": "python",
   "nbconvert_exporter": "python",
   "pygments_lexer": "ipython3",
   "version": "3.9.12"
  }
 },
 "nbformat": 4,
 "nbformat_minor": 5
}
